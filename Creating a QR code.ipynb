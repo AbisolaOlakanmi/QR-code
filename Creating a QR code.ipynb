{
 "cells": [
  {
   "cell_type": "code",
   "execution_count": 1,
   "id": "8633a1c8",
   "metadata": {},
   "outputs": [],
   "source": [
    "import qrcode"
   ]
  },
  {
   "cell_type": "code",
   "execution_count": 3,
   "id": "7ba11597",
   "metadata": {},
   "outputs": [
    {
     "ename": "SyntaxError",
     "evalue": "invalid syntax. Perhaps you forgot a comma? (1255157444.py, line 1)",
     "output_type": "error",
     "traceback": [
      "\u001b[1;36m  Cell \u001b[1;32mIn[3], line 1\u001b[1;36m\u001b[0m\n\u001b[1;33m    img = qrcode.make(RCCG Christ Chapel Youth Student Information Session,\u001b[0m\n\u001b[1;37m                      ^\u001b[0m\n\u001b[1;31mSyntaxError\u001b[0m\u001b[1;31m:\u001b[0m invalid syntax. Perhaps you forgot a comma?\n"
     ]
    }
   ],
   "source": [
    "img = qrcode.make(RCCG Christ Chapel Youth Student Information Session,\n",
    "                  click the link please)"
   ]
  },
  {
   "cell_type": "code",
   "execution_count": null,
   "id": "228dfba1",
   "metadata": {},
   "outputs": [],
   "source": [
    "qr = qrcode. QRCode(version= 1,\n",
    "                   error_correction=qrcode.constants.ERROR_CORRECT_L,\n",
    "                   box_size = 50,\n",
    "                   border=20)"
   ]
  },
  {
   "cell_type": "code",
   "execution_count": null,
   "id": "d4e7ff20",
   "metadata": {},
   "outputs": [],
   "source": [
    "qr.add_data(\"https://docs.google.com/forms/d/e/1FAIpQLScp7BtZ4UdsMQcC_HNLrJIhp7P3G8Vt6hwdmzXeDlJlUT4jrw/viewform?pli=1\")"
   ]
  },
  {
   "cell_type": "code",
   "execution_count": null,
   "id": "050b7973",
   "metadata": {},
   "outputs": [],
   "source": [
    "qr.make(fit=True)"
   ]
  },
  {
   "cell_type": "code",
   "execution_count": 4,
   "id": "da5195e8",
   "metadata": {},
   "outputs": [],
   "source": [
    "img.save(\"mycode.png\")"
   ]
  },
  {
   "cell_type": "code",
   "execution_count": null,
   "id": "441be937",
   "metadata": {},
   "outputs": [],
   "source": []
  }
 ],
 "metadata": {
  "kernelspec": {
   "display_name": "Python 3 (ipykernel)",
   "language": "python",
   "name": "python3"
  },
  "language_info": {
   "codemirror_mode": {
    "name": "ipython",
    "version": 3
   },
   "file_extension": ".py",
   "mimetype": "text/x-python",
   "name": "python",
   "nbconvert_exporter": "python",
   "pygments_lexer": "ipython3",
   "version": "3.10.9"
  }
 },
 "nbformat": 4,
 "nbformat_minor": 5
}
