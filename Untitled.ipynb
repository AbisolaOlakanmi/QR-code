{
 "cells": [
  {
   "cell_type": "code",
   "execution_count": 1,
   "id": "c5ba1efc",
   "metadata": {},
   "outputs": [],
   "source": [
    "import qrcode"
   ]
  },
  {
   "cell_type": "code",
   "execution_count": 6,
   "id": "21da93a2",
   "metadata": {},
   "outputs": [],
   "source": [
    "qr = qrcode. QRCode(version= 1,\n",
    "                   error_correction=qrcode.constants.ERROR_CORRECT_L,\n",
    "                   box_size = 50,\n",
    "                   border=20)"
   ]
  },
  {
   "cell_type": "code",
   "execution_count": null,
   "id": "cf01fda9",
   "metadata": {},
   "outputs": [],
   "source": []
  }
 ],
 "metadata": {
  "kernelspec": {
   "display_name": "Python 3 (ipykernel)",
   "language": "python",
   "name": "python3"
  },
  "language_info": {
   "codemirror_mode": {
    "name": "ipython",
    "version": 3
   },
   "file_extension": ".py",
   "mimetype": "text/x-python",
   "name": "python",
   "nbconvert_exporter": "python",
   "pygments_lexer": "ipython3",
   "version": "3.10.9"
  }
 },
 "nbformat": 4,
 "nbformat_minor": 5
}
